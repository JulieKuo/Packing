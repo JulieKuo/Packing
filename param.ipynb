{
 "cells": [
  {
   "cell_type": "code",
   "execution_count": null,
   "metadata": {},
   "outputs": [],
   "source": [
    "import os, json, base64"
   ]
  },
  {
   "cell_type": "markdown",
   "metadata": {},
   "source": [
    "## Parameters"
   ]
  },
  {
   "cell_type": "code",
   "execution_count": null,
   "metadata": {},
   "outputs": [],
   "source": [
    "samples = [\n",
    "    {\n",
    "    \"plate\": [1110, 950, 100],\n",
    "    \"item\": [605, 305, 86],\n",
    "    \"total_height\": 1050,\n",
    "    \"gap\": 20,\n",
    "    \"root\" : os.getcwd()\n",
    "    }, # 54 = 54\n",
    "    {\n",
    "    \"plate\": [1110, 950, 100],\n",
    "    \"item\": [605, 605, 45],\n",
    "    \"total_height\": 1315,\n",
    "    \"gap\": 30,\n",
    "    \"root\" : os.getcwd()\n",
    "    }, # 60 < 68\n",
    "    {\n",
    "    \"plate\": [1110, 950, 100],\n",
    "    \"item\": [905, 455, 40],\n",
    "    \"total_height\": 1010,\n",
    "    \"gap\": 15,\n",
    "    \"root\" : os.getcwd()\n",
    "    }, # 54 < 56\n",
    "    {\n",
    "    \"plate\": [1110, 950, 100],\n",
    "    \"item\": [1205, 603, 30],\n",
    "    \"total_height\": 1315,\n",
    "    \"gap\": 15,\n",
    "    \"root\" : os.getcwd()\n",
    "    }, # 52 < 54\n",
    "    {\n",
    "    \"plate\": [1110, 950, 100],\n",
    "    \"item\": [600, 140, 90],\n",
    "    \"total_height\": 1315,\n",
    "    \"gap\": 25,\n",
    "    \"root\" : os.getcwd()\n",
    "    }\n",
    "]\n",
    "sample_num = 4\n",
    "param = samples[sample_num]"
   ]
  },
  {
   "cell_type": "markdown",
   "metadata": {},
   "source": [
    "## dict encode to base64"
   ]
  },
  {
   "cell_type": "code",
   "execution_count": null,
   "metadata": {},
   "outputs": [
    {
     "name": "stdout",
     "output_type": "stream",
     "text": [
      "eyJwbGF0ZSI6IFsxMTEwLCA5NTAsIDEwMF0sICJpdGVtIjogWzYwMCwgMTQwLCA5MF0sICJ0b3RhbF9oZWlnaHQiOiAxMzE1LCAiZ2FwIjogMjUsICJyb290IjogImM6XFxVc2Vyc1xcdHp1bGlcXERvY3VtZW50c1xccHl0aG9uXFxwYWNraW5nIn0=\n"
     ]
    }
   ],
   "source": [
    "s = json.dumps(param)\n",
    "b = s.encode(\"UTF-8\")\n",
    "e = base64.b64encode(b)\n",
    "param = e.decode(\"UTF-8\")\n",
    "print(param)"
   ]
  },
  {
   "cell_type": "markdown",
   "metadata": {},
   "source": [
    "## base64 decode to dict"
   ]
  },
  {
   "cell_type": "code",
   "execution_count": null,
   "metadata": {},
   "outputs": [
    {
     "data": {
      "text/plain": [
       "{'plate': [1110, 950, 100],\n",
       " 'item': [600, 140, 90],\n",
       " 'total_height': 1315,\n",
       " 'gap': 25,\n",
       " 'root': 'c:\\\\Users\\\\tzuli\\\\Documents\\\\python\\\\packing'}"
      ]
     },
     "metadata": {},
     "output_type": "display_data"
    }
   ],
   "source": [
    "param = base64.b64decode(param).decode('utf-8')\n",
    "param = json.loads(param)\n",
    "param"
   ]
  },
  {
   "cell_type": "markdown",
   "metadata": {},
   "source": [
    "## Call model"
   ]
  },
  {
   "cell_type": "code",
   "execution_count": null,
   "metadata": {},
   "outputs": [
    {
     "name": "stdout",
     "output_type": "stream",
     "text": [
      "length: 140, width: 90, hight: 600, counts = 120\n",
      "length: 600, width: 90, hight: 140, counts = 128\n"
     ]
    }
   ],
   "source": [
    "from run import *\n",
    "\n",
    "main(param)"
   ]
  }
 ],
 "metadata": {
  "language_info": {
   "name": "python"
  },
  "orig_nbformat": 4
 },
 "nbformat": 4,
 "nbformat_minor": 2
}
