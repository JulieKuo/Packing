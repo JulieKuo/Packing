{
 "cells": [
  {
   "cell_type": "code",
   "execution_count": 1,
   "metadata": {},
   "outputs": [],
   "source": [
    "import json, base64\n",
    "from datetime import datetime"
   ]
  },
  {
   "cell_type": "code",
   "execution_count": 2,
   "metadata": {},
   "outputs": [],
   "source": [
    "time = datetime.now().strftime(\"%Y%m%d%H%M%S\")"
   ]
  },
  {
   "cell_type": "markdown",
   "metadata": {},
   "source": [
    "## Parameters"
   ]
  },
  {
   "cell_type": "code",
   "execution_count": 3,
   "metadata": {},
   "outputs": [
    {
     "data": {
      "text/plain": [
       "{'plate': [1110, 950, 100],\n",
       " 'item': [600, 140, 90],\n",
       " 'total_height': 1315,\n",
       " 'gap': 25,\n",
       " 'time': '20231121142821'}"
      ]
     },
     "execution_count": 3,
     "metadata": {},
     "output_type": "execute_result"
    }
   ],
   "source": [
    "samples = [\n",
    "    {\n",
    "    \"plate\": [1110, 950, 100],\n",
    "    \"item\": [605, 305, 86],\n",
    "    \"total_height\": 1050,\n",
    "    \"gap\": 20,\n",
    "    \"time\": time\n",
    "    }, # 54 = 54\n",
    "    {\n",
    "    \"plate\": [1110, 950, 100],\n",
    "    \"item\": [605, 605, 45],\n",
    "    \"total_height\": 1315,\n",
    "    \"gap\": 30,\n",
    "    \"time\": time\n",
    "    }, # 60 < 68\n",
    "    {\n",
    "    \"plate\": [1110, 950, 100],\n",
    "    \"item\": [905, 455, 40],\n",
    "    \"total_height\": 1010,\n",
    "    \"gap\": 15,\n",
    "    \"time\": time\n",
    "    }, # 54 < 56\n",
    "    {\n",
    "    \"plate\": [1110, 950, 100],\n",
    "    \"item\": [1205, 603, 30],\n",
    "    \"total_height\": 1315,\n",
    "    \"gap\": 15,\n",
    "    \"time\": time\n",
    "    }, # 52 < 54\n",
    "    {\n",
    "    \"plate\": [1110, 950, 100],\n",
    "    \"item\": [600, 140, 90],\n",
    "    \"total_height\": 1315,\n",
    "    \"gap\": 25,\n",
    "    \"time\": time\n",
    "    }\n",
    "]\n",
    "sample_num = 4\n",
    "param = samples[sample_num]\n",
    "param"
   ]
  },
  {
   "cell_type": "code",
   "execution_count": 4,
   "metadata": {},
   "outputs": [
    {
     "data": {
      "text/plain": [
       "3.3636363636363638"
      ]
     },
     "execution_count": 4,
     "metadata": {},
     "output_type": "execute_result"
    }
   ],
   "source": [
    "1110/(165*2)"
   ]
  },
  {
   "cell_type": "code",
   "execution_count": null,
   "metadata": {},
   "outputs": [],
   "source": []
  },
  {
   "cell_type": "markdown",
   "metadata": {},
   "source": [
    "## dict encode to base64"
   ]
  },
  {
   "cell_type": "code",
   "execution_count": 4,
   "metadata": {},
   "outputs": [
    {
     "name": "stdout",
     "output_type": "stream",
     "text": [
      "python run.py \"eyJwbGF0ZSI6IFsxMTEwLCA5NTAsIDEwMF0sICJpdGVtIjogWzYwMCwgMTQwLCA5MF0sICJ0b3RhbF9oZWlnaHQiOiAxMzE1LCAiZ2FwIjogMjUsICJ0aW1lIjogIjIwMjMxMTIxMTQyODIxIn0=\"\n"
     ]
    }
   ],
   "source": [
    "s = json.dumps(param)\n",
    "b = s.encode(\"UTF-8\")\n",
    "e = base64.b64encode(b)\n",
    "param = e.decode(\"UTF-8\")\n",
    "print(f'python run.py \"{param}\"')"
   ]
  }
 ],
 "metadata": {
  "kernelspec": {
   "display_name": ".venv",
   "language": "python",
   "name": "python3"
  },
  "language_info": {
   "codemirror_mode": {
    "name": "ipython",
    "version": 3
   },
   "file_extension": ".py",
   "mimetype": "text/x-python",
   "name": "python",
   "nbconvert_exporter": "python",
   "pygments_lexer": "ipython3",
   "version": "3.8.10"
  },
  "orig_nbformat": 4
 },
 "nbformat": 4,
 "nbformat_minor": 2
}
